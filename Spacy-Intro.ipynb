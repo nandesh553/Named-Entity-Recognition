{
 "cells": [
  {
   "cell_type": "code",
   "execution_count": 1,
   "metadata": {},
   "outputs": [],
   "source": [
    "import pandas as pd\n",
    "import numpy as np\n",
    "import spacy\n",
    "import nltk"
   ]
  },
  {
   "cell_type": "code",
   "execution_count": 21,
   "metadata": {},
   "outputs": [],
   "source": [
    "with open('../Dataset/Docs/doc2.txt', 'r') as f:\n",
    "    text = f.read()"
   ]
  },
  {
   "cell_type": "code",
   "execution_count": 24,
   "metadata": {},
   "outputs": [],
   "source": [
    "nlp = spacy.load('en_core_web_sm')\n",
    "\n",
    "doc = nlp(text)"
   ]
  },
  {
   "cell_type": "code",
   "execution_count": 23,
   "metadata": {},
   "outputs": [
    {
     "name": "stdout",
     "output_type": "stream",
     "text": [
      "Business India Group \n",
      "\n",
      "\n",
      "BIEPL \n",
      "\n",
      "\n",
      "BIEPL \n",
      "\n",
      "\n",
      "Court \n",
      "\n",
      "\n",
      "No.0868588 \n",
      "\n",
      "\n",
      "HDFC Bank \n",
      "\n",
      "\n",
      "TDS \n",
      "\n",
      "\n",
      "TDS \n",
      "\n",
      "\n",
      "the Division Bench of this Court \n",
      "\n",
      "\n",
      "Bharath Skins Corporation \n",
      "\n",
      "\n",
      "Taneja Skins Company Pvt. \n",
      "\n",
      "\n",
      "Court \n",
      "\n",
      "\n",
      "Rs.2,35,30,495.70p \n",
      "\n",
      "\n",
      "TDS \n",
      "\n",
      "\n",
      "TDS \n",
      "\n",
      "\n",
      "Satya Infrastructure Ltd. \n",
      "\n",
      "\n",
      "Satya Infra & Estates Pvt. \n",
      "\n",
      "\n",
      "Court \n",
      "\n",
      "\n",
      "Saurabh Exports \n",
      "\n",
      "\n",
      "Blaze Finlease & Credits Pvt. \n",
      "\n",
      "\n"
     ]
    }
   ],
   "source": [
    "for i in doc.ents:\n",
    "    if i.label_ == 'ORG':\n",
    "        print(i.text, '\\n\\n')"
   ]
  }
 ],
 "metadata": {
  "kernelspec": {
   "display_name": "Python 3",
   "language": "python",
   "name": "python3"
  },
  "language_info": {
   "codemirror_mode": {
    "name": "ipython",
    "version": 3
   },
   "file_extension": ".py",
   "mimetype": "text/x-python",
   "name": "python",
   "nbconvert_exporter": "python",
   "pygments_lexer": "ipython3",
   "version": "3.6.8"
  }
 },
 "nbformat": 4,
 "nbformat_minor": 2
}
